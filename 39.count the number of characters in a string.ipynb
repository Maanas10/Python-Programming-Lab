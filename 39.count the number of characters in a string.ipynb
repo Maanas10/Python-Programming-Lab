{
 "cells": [
  {
   "cell_type": "code",
   "execution_count": 2,
   "metadata": {},
   "outputs": [
    {
     "name": "stdout",
     "output_type": "stream",
     "text": [
      "Enter the String:hellokmct\n",
      "h is repeated 1 times\n",
      "e is repeated 1 times\n",
      "l is repeated 2 times\n",
      "o is repeated 1 times\n",
      "k is repeated 1 times\n",
      "m is repeated 1 times\n",
      "c is repeated 1 times\n",
      "t is repeated 1 times\n"
     ]
    }
   ],
   "source": [
    "#count the number of characters in a string.\n",
    "n=(input(\"Enter the String:\"))\n",
    "c={}\n",
    "for i in n:\n",
    "    if i in c:\n",
    "        c[i]=c[i]+1\n",
    "    else:\n",
    "        c[i]=1\n",
    "for keys,value in c.items():\n",
    "    print(keys,'is repeated',value,'times')\n",
    "\n"
   ]
  },
  {
   "cell_type": "code",
   "execution_count": null,
   "metadata": {
    "collapsed": true
   },
   "outputs": [],
   "source": []
  },
  {
   "cell_type": "code",
   "execution_count": null,
   "metadata": {
    "collapsed": true
   },
   "outputs": [],
   "source": []
  }
 ],
 "metadata": {
  "kernelspec": {
   "display_name": "Python 3",
   "language": "python",
   "name": "python3"
  },
  "language_info": {
   "codemirror_mode": {
    "name": "ipython",
    "version": 3
   },
   "file_extension": ".py",
   "mimetype": "text/x-python",
   "name": "python",
   "nbconvert_exporter": "python",
   "pygments_lexer": "ipython3",
   "version": "3.6.3"
  }
 },
 "nbformat": 4,
 "nbformat_minor": 2
}
