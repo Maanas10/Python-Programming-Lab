{
 "cells": [
  {
   "cell_type": "code",
   "execution_count": 6,
   "metadata": {},
   "outputs": [
    {
     "name": "stdout",
     "output_type": "stream",
     "text": [
      "Dictionary {'saji': 12, 'ravi': 13, 'abhi': 15, 'biju': 14}\n",
      "Ascending order: [('abhi', 15), ('biju', 14), ('ravi', 13), ('saji', 12)]\n",
      "Descending order: [('saji', 12), ('ravi', 13), ('biju', 14), ('abhi', 15)]\n"
     ]
    }
   ],
   "source": [
    "#56. Sort dictionary in ascending and descending order.\n",
    "a={'saji':12,'ravi':13,'abhi':15,'biju':14} \n",
    "print(\"Dictionary\",a)\n",
    "l=list(a.items())\n",
    "l.sort()            \n",
    "print('Ascending order:',l) \n",
    "l=list(a.items())\n",
    "l.sort(reverse=True) \n",
    "print('Descending order:',l)\n"
   ]
  },
  {
   "cell_type": "code",
   "execution_count": null,
   "metadata": {
    "collapsed": true
   },
   "outputs": [],
   "source": []
  },
  {
   "cell_type": "code",
   "execution_count": null,
   "metadata": {
    "collapsed": true
   },
   "outputs": [],
   "source": []
  }
 ],
 "metadata": {
  "kernelspec": {
   "display_name": "Python 3",
   "language": "python",
   "name": "python3"
  },
  "language_info": {
   "codemirror_mode": {
    "name": "ipython",
    "version": 3
   },
   "file_extension": ".py",
   "mimetype": "text/x-python",
   "name": "python",
   "nbconvert_exporter": "python",
   "pygments_lexer": "ipython3",
   "version": "3.6.3"
  }
 },
 "nbformat": 4,
 "nbformat_minor": 2
}
