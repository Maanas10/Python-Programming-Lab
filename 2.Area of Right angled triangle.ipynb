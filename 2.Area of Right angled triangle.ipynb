{
 "cells": [
  {
   "cell_type": "code",
   "execution_count": 1,
   "metadata": {},
   "outputs": [
    {
     "name": "stdout",
     "output_type": "stream",
     "text": [
      "Enter height of the triangle:3\n",
      "Enter side of the triangle:4\n",
      "Area of triangle is : 6\n"
     ]
    }
   ],
   "source": [
    "h=int(input(\"Enter height of the triangle:\"))\n",
    "b=int(input(\"Enter side of the triangle:\"))\n",
    "area=(h*b)/2\n",
    "print (\"Area of triangle is : %d\" %(area))"
   ]
  },
  {
   "cell_type": "code",
   "execution_count": null,
   "metadata": {
    "collapsed": true
   },
   "outputs": [],
   "source": []
  }
 ],
 "metadata": {
  "kernelspec": {
   "display_name": "Python 3",
   "language": "python",
   "name": "python3"
  },
  "language_info": {
   "codemirror_mode": {
    "name": "ipython",
    "version": 3
   },
   "file_extension": ".py",
   "mimetype": "text/x-python",
   "name": "python",
   "nbconvert_exporter": "python",
   "pygments_lexer": "ipython3",
   "version": "3.6.3"
  }
 },
 "nbformat": 4,
 "nbformat_minor": 2
}


//VERIFIED
