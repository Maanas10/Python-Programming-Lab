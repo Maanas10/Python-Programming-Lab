{
 "cells": [
  {
   "cell_type": "code",
   "execution_count": 5,
   "metadata": {},
   "outputs": [
    {
     "name": "stdout",
     "output_type": "stream",
     "text": [
      "Enter the numbers seperated by comma:1,2,3\n",
      "The average of the numbers in tupples is: 2.0\n"
     ]
    }
   ],
   "source": [
    "#Calculate the average of numbers in tuple\n",
    "\n",
    "a=tuple(input(\"Enter the numbers seperated by comma:\").split(\",\"))\n",
    "s=len(a)\n",
    "v=0\n",
    "for i in range (s):\n",
    "    v=int(a[i])+v\n",
    "    e=v/s\n",
    "print(\"The average of the numbers in tupples is:\",e)"
   ]
  },
  {
   "cell_type": "code",
   "execution_count": null,
   "metadata": {
    "collapsed": true
   },
   "outputs": [],
   "source": []
  }
 ],
 "metadata": {
  "kernelspec": {
   "display_name": "Python 3",
   "language": "python",
   "name": "python3"
  },
  "language_info": {
   "codemirror_mode": {
    "name": "ipython",
    "version": 3
   },
   "file_extension": ".py",
   "mimetype": "text/x-python",
   "name": "python",
   "nbconvert_exporter": "python",
   "pygments_lexer": "ipython3",
   "version": "3.6.3"
  }
 },
 "nbformat": 4,
 "nbformat_minor": 2
}
