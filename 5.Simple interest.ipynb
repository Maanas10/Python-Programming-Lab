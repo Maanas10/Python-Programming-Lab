{
 "cells": [
  {
   "cell_type": "code",
   "execution_count": 1,
   "metadata": {},
   "outputs": [
    {
     "name": "stdout",
     "output_type": "stream",
     "text": [
      "Enter the intial amount:3000\n",
      "Enter number of year:2\n",
      "Enter rate of interest:30\n",
      "simple interest is 1800\n"
     ]
    }
   ],
   "source": [
    "p=int(input(\"Enter the intial amount:\"))\n",
    "n=int(input(\"Enter number of year:\"))\n",
    "r=int(input (\"Enter rate of interest:\"))\n",
    "i=(p*n*r)/100\n",
    "print (\"simple interest is %d\" %(i))"
   ]
  },
  {
   "cell_type": "code",
   "execution_count": null,
   "metadata": {
    "collapsed": true
   },
   "outputs": [],
   "source": []
  }
 ],
 "metadata": {
  "kernelspec": {
   "display_name": "Python 3",
   "language": "python",
   "name": "python3"
  },
  "language_info": {
   "codemirror_mode": {
    "name": "ipython",
    "version": 3
   },
   "file_extension": ".py",
   "mimetype": "text/x-python",
   "name": "python",
   "nbconvert_exporter": "python",
   "pygments_lexer": "ipython3",
   "version": "3.6.3"
  }
 },
 "nbformat": 4,
 "nbformat_minor": 2
}
