{
 "cells": [
  {
   "cell_type": "code",
   "execution_count": 19,
   "metadata": {},
   "outputs": [
    {
     "name": "stdout",
     "output_type": "stream",
     "text": [
      "Enter 1st Number:2.5\n",
      "Enter 2nd Number:3.2\n",
      "...Enter your option....\n",
      "1.Addition\n",
      "2.Multiplication\n",
      "3.Subtraction\n",
      "4.Division\n",
      "choose your option to perform:2\n",
      "2*3=8.00\n"
     ]
    }
   ],
   "source": [
    "a=float(input(\"Enter 1st Number:\"))\n",
    "b=float(input(\"Enter 2nd Number:\"))\n",
    "print(\"...Enter your option....\")\n",
    "print(\"1.Addition\")\n",
    "print(\"2.Multiplication\")\n",
    "print(\"3.Subtraction\")\n",
    "print(\"4.Division\")\n",
    "opt=int(input(\"choose your option to perform:\"))\n",
    "if(opt==1):\n",
    "    print(\"%d+%d=%.2f\" %(a,b,(a+b)))\n",
    "elif(opt==2):\n",
    "    print(\"%d*%d=%.2f\" %(a,b,(a*b)))\n",
    "elif(opt==3):\n",
    "    print(\"%d-%d=.2fd\" %(a,b,(a-b)))\n",
    "elif(opt==4):\n",
    "    print(\"Ans= %d*%d=%.2f\" %(a,b,(a/b)))\n",
    "else:\n",
    "    print(\"option is invalid\")\n",
    "\n",
    "    "
   ]
  },
  {
   "cell_type": "code",
   "execution_count": null,
   "metadata": {
    "collapsed": true
   },
   "outputs": [],
   "source": [
    " "
   ]
  },
  {
   "cell_type": "code",
   "execution_count": null,
   "metadata": {
    "collapsed": true
   },
   "outputs": [],
   "source": []
  },
  {
   "cell_type": "code",
   "execution_count": null,
   "metadata": {
    "collapsed": true
   },
   "outputs": [],
   "source": []
  }
 ],
 "metadata": {
  "kernelspec": {
   "display_name": "Python 3",
   "language": "python",
   "name": "python3"
  },
  "language_info": {
   "codemirror_mode": {
    "name": "ipython",
    "version": 3
   },
   "file_extension": ".py",
   "mimetype": "text/x-python",
   "name": "python",
   "nbconvert_exporter": "python",
   "pygments_lexer": "ipython3",
   "version": "3.6.3"
  }
 },
 "nbformat": 4,
 "nbformat_minor": 2
}
