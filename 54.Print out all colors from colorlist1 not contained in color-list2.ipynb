{
 "cells": [
  {
   "cell_type": "code",
   "execution_count": 12,
   "metadata": {},
   "outputs": [
    {
     "name": "stdout",
     "output_type": "stream",
     "text": [
      "Enter the colors seperated by comma:Red,Green,Blue\n",
      "Enter the colors seperated by comma:Red,Green,Yellow\n",
      "The colors which contained in list 1 but not in list 2 is  {'Blue'}\n"
     ]
    }
   ],
   "source": [
    "#Print out all colors from colorlist1 not contained in color-list2\n",
    "colorlist =set(input(\"Enter the colors seperated by comma:\").split(\",\"))\n",
    "colorlist2 =set(input(\"Enter the colors seperated by comma:\").split(\",\"))\n",
    "b=colorlist.difference(colorlist2)\n",
    "print(\"The colors which contained in list 1 but not in list 2 is \",b)\n",
    "\n",
    " "
   ]
  },
  {
   "cell_type": "code",
   "execution_count": null,
   "metadata": {},
   "outputs": [],
   "source": [
    "\n"
   ]
  },
  {
   "cell_type": "code",
   "execution_count": null,
   "metadata": {
    "collapsed": true
   },
   "outputs": [],
   "source": []
  }
 ],
 "metadata": {
  "kernelspec": {
   "display_name": "Python 3",
   "language": "python",
   "name": "python3"
  },
  "language_info": {
   "codemirror_mode": {
    "name": "ipython",
    "version": 3
   },
   "file_extension": ".py",
   "mimetype": "text/x-python",
   "name": "python",
   "nbconvert_exporter": "python",
   "pygments_lexer": "ipython3",
   "version": "3.6.3"
  }
 },
 "nbformat": 4,
 "nbformat_minor": 2
}
