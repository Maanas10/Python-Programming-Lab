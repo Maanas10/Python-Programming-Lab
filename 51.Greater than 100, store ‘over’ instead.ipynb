{
 "cells": [
  {
   "cell_type": "code",
   "execution_count": 4,
   "metadata": {},
   "outputs": [
    {
     "name": "stdout",
     "output_type": "stream",
     "text": [
      "enter an integer('enter STOP to end adding item):23\n",
      "enter an integer('enter STOP to end adding item):50\n",
      "enter an integer('enter STOP to end adding item):75\n",
      "enter an integer('enter STOP to end adding item):187\n",
      "enter an integer('enter STOP to end adding item):434\n",
      "enter an integer('enter STOP to end adding item):25\n",
      "enter an integer('enter STOP to end adding item):stop\n",
      "[23, 50, 75, 'over', 'over', 25]\n"
     ]
    }
   ],
   "source": [
    "#greater than 100, store ‘over’ instead.\n",
    "values=[]\n",
    "while True:\n",
    "    value = input(\"enter an integer('enter STOP to end adding item):\")\n",
    "    if (value == 'STOP' or value == \"stop\"):\n",
    "        break\n",
    "    elif int(value)>100:\n",
    "        values.append('over')\n",
    "    else:\n",
    "        values.append(int(value))\n",
    "print(values)"
   ]
  },
  {
   "cell_type": "code",
   "execution_count": null,
   "metadata": {
    "collapsed": true
   },
   "outputs": [],
   "source": []
  },
  {
   "cell_type": "code",
   "execution_count": null,
   "metadata": {
    "collapsed": true
   },
   "outputs": [],
   "source": []
  }
 ],
 "metadata": {
  "kernelspec": {
   "display_name": "Python 3",
   "language": "python",
   "name": "python3"
  },
  "language_info": {
   "codemirror_mode": {
    "name": "ipython",
    "version": 3
   },
   "file_extension": ".py",
   "mimetype": "text/x-python",
   "name": "python",
   "nbconvert_exporter": "python",
   "pygments_lexer": "ipython3",
   "version": "3.6.3"
  }
 },
 "nbformat": 4,
 "nbformat_minor": 2
}
