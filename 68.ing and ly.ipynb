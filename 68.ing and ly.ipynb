#Add ‘ing’ at the end of a given string. If it already ends with ‘ing’, then add ‘ly’.
l=input('Enter a word:')
if(l[-3:]=='ing'):
    l=l+'ly'
    print("The word is:",l)
else:
    l=l+'ing'
    print('The word is:',l)
