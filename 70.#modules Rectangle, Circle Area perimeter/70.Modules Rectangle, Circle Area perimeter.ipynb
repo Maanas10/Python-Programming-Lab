{
 "cells": [
  {
   "cell_type": "code",
   "execution_count": 3,
   "id": "85df5936",
   "metadata": {},
   "outputs": [
    {
     "name": "stdout",
     "output_type": "stream",
     "text": [
      "1.Rectangle\n",
      "2. Circle\n",
      "3. Exit\n",
      "enter your choice:1\n",
      "enter length:4\n",
      "enter breadth:3\n",
      "Area of Rectangle:  12\n"
     ]
    },
    {
     "ename": "NameError",
     "evalue": "name 'rectcirc' is not defined",
     "output_type": "error",
     "traceback": [
      "\u001b[1;31m---------------------------------------------------------------------------\u001b[0m",
      "\u001b[1;31mNameError\u001b[0m                                 Traceback (most recent call last)",
      "Cell \u001b[1;32mIn[3], line 9\u001b[0m\n\u001b[0;32m      7\u001b[0m     b\u001b[38;5;241m=\u001b[39m\u001b[38;5;28mint\u001b[39m(\u001b[38;5;28minput\u001b[39m(\u001b[38;5;124m\"\u001b[39m\u001b[38;5;124menter breadth:\u001b[39m\u001b[38;5;124m\"\u001b[39m))\n\u001b[0;32m      8\u001b[0m     rectangle_circle\u001b[38;5;241m.\u001b[39mrectarea(l,b)\n\u001b[1;32m----> 9\u001b[0m     \u001b[43mrectcirc\u001b[49m\u001b[38;5;241m.\u001b[39mrectperi(l,b)\n\u001b[0;32m     10\u001b[0m \u001b[38;5;28;01melif\u001b[39;00m(ch\u001b[38;5;241m==\u001b[39m\u001b[38;5;241m2\u001b[39m):\n\u001b[0;32m     11\u001b[0m     r\u001b[38;5;241m=\u001b[39m\u001b[38;5;28mint\u001b[39m(\u001b[38;5;28minput\u001b[39m(\u001b[38;5;124m\"\u001b[39m\u001b[38;5;124mEnter the radius:\u001b[39m\u001b[38;5;124m\"\u001b[39m))\n",
      "\u001b[1;31mNameError\u001b[0m: name 'rectcirc' is not defined"
     ]
    }
   ],
   "source": [
    "import rectangle_circle\n",
    "while(1):\n",
    "    print(\"1.Rectangle\\n2. Circle\\n3. Exit\")\n",
    "    ch=int(input(\"enter your choice:\"))\n",
    "    if(ch==1):\n",
    "        l=int(input(\"enter length:\"))\n",
    "        b=int(input(\"enter breadth:\"))\n",
    "        rectangle_circle.rectarea(l,b)\n",
    "        rectangle_circle.rectperi(l,b)\n",
    "    elif(ch==2):\n",
    "        r=int(input(\"Enter the radius:\"))\n",
    "        rectangle_circle.circlearea(r)\n",
    "        rectangle_circle.circleperi(r)\n",
    "    else:\n",
    "        print(\"exited\")\n",
    "        break"
   ]
  },
  {
   "cell_type": "code",
   "execution_count": null,
   "id": "62470e67",
   "metadata": {},
   "outputs": [],
   "source": []
  }
 ],
 "metadata": {
  "kernelspec": {
   "display_name": "Python 3 (ipykernel)",
   "language": "python",
   "name": "python3"
  },
  "language_info": {
   "codemirror_mode": {
    "name": "ipython",
    "version": 3
   },
   "file_extension": ".py",
   "mimetype": "text/x-python",
   "name": "python",
   "nbconvert_exporter": "python",
   "pygments_lexer": "ipython3",
   "version": "3.10.7"
  }
 },
 "nbformat": 4,
 "nbformat_minor": 5
}
