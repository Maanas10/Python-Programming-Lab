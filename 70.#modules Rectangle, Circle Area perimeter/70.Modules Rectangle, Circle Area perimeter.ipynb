{
 "cells": [
  {
   "cell_type": "code",
   "execution_count": 23,
   "metadata": {},
   "outputs": [
    {
     "name": "stdout",
     "output_type": "stream",
     "text": [
      "1.Rectangle\n",
      "2. Circle\n",
      "3. Exit\n",
      "Enter your choice: 1\n",
      "Enter length:3\n",
      "Enter breadth:5\n",
      "Area of Rectangle:  15\n",
      "Perimeter of rectangle:  16\n",
      "1.Rectangle\n",
      "2. Circle\n",
      "3. Exit\n",
      "Enter your choice: 2\n",
      "Enter radius3\n",
      "Area of Circle:  28.259999999999998\n",
      "Perimeter of circle:  18.84\n",
      "1.Rectangle\n",
      "2. Circle\n",
      "3. Exit\n",
      "Enter your choice: 3\n",
      "Exiting....\n"
     ]
    }
   ],
   "source": [
    "#modules Rectangle, Circle Area perimeter\n",
    "import rectangle_circle\n",
    "while(1):\n",
    "    print(\"1.Rectangle\\n2. Circle\\n3. Exit\")\n",
    "    ch=int(input(\"Enter your choice: \"))\n",
    "    if ch==1:\n",
    "        l=int(input(\"Enter length:\"))\n",
    "        b = int(input(\"Enter breadth:\"))\n",
    "        rectangle_circle.rectarea(l,b)\n",
    "        rectangle_circle.rectperi(l,b)\n",
    "    elif ch==2:\n",
    "        r = int(input(\"Enter radius\"))\n",
    "        rectangle_circle.circlearea(r)\n",
    "        rectangle_circle.circleperi(r)\n",
    "    else:\n",
    "        print(\"Exiting....\")\n",
    "        break\n"
   ]
  },
  {
   "cell_type": "code",
   "execution_count": null,
   "metadata": {
    "collapsed": true
   },
   "outputs": [],
   "source": []
  },
  {
   "cell_type": "code",
   "execution_count": null,
   "metadata": {
    "collapsed": true
   },
   "outputs": [],
   "source": []
  }
 ],
 "metadata": {
  "kernelspec": {
   "display_name": "Python 3",
   "language": "python",
   "name": "python3"
  },
  "language_info": {
   "codemirror_mode": {
    "name": "ipython",
    "version": 3
   },
   "file_extension": ".py",
   "mimetype": "text/x-python",
   "name": "python",
   "nbconvert_exporter": "python",
   "pygments_lexer": "ipython3",
   "version": "3.6.3"
  }
 },
 "nbformat": 4,
 "nbformat_minor": 2
}
