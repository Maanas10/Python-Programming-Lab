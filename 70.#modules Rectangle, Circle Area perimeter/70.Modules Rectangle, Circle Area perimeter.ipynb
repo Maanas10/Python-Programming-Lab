{
 "cells": [
  {
   "cell_type": "code",
   "execution_count": 4,
   "id": "843c21bf",
   "metadata": {},
   "outputs": [
    {
     "name": "stdout",
     "output_type": "stream",
     "text": [
      "1.Rectangle\n",
      "2. Circle\n",
      "3. Exit\n",
      "enter your choice:1\n",
      "enter length:3\n",
      "enter breadth:4\n",
      "Area of Rectangle:  12\n",
      "Perimeter of rectangle:  14\n",
      "1.Rectangle\n",
      "2. Circle\n",
      "3. Exit\n",
      "enter your choice:2\n",
      "Enter the radius:4\n",
      "Area of Circle:  50.24\n",
      "Perimeter of circle:  25.12\n",
      "1.Rectangle\n",
      "2. Circle\n",
      "3. Exit\n",
      "enter your choice:3\n",
      "exited\n"
     ]
    }
   ],
   "source": [
    "import rectangle_circle\n",
    "while(1):\n",
    "    print(\"1.Rectangle\\n2. Circle\\n3. Exit\")\n",
    "    ch=int(input(\"enter your choice:\"))\n",
    "    if(ch==1):\n",
    "        l=int(input(\"enter length:\"))\n",
    "        b=int(input(\"enter breadth:\"))\n",
    "        rectangle_circle.rectarea(l,b)\n",
    "        rectangle_circle.rectperi(l,b)\n",
    "    elif(ch==2):\n",
    "        r=int(input(\"Enter the radius:\"))\n",
    "        rectangle_circle.circlearea(r)\n",
    "        rectangle_circle.circleperi(r)\n",
    "    else:\n",
    "        print(\"exited\")\n",
    "        break"
   ]
  },
  {
   "cell_type": "code",
   "execution_count": null,
   "id": "2e62fe19",
   "metadata": {},
   "outputs": [],
   "source": []
  }
 ],
 "metadata": {
  "kernelspec": {
   "display_name": "Python 3 (ipykernel)",
   "language": "python",
   "name": "python3"
  },
  "language_info": {
   "codemirror_mode": {
    "name": "ipython",
    "version": 3
   },
   "file_extension": ".py",
   "mimetype": "text/x-python",
   "name": "python",
   "nbconvert_exporter": "python",
   "pygments_lexer": "ipython3",
   "version": "3.10.7"
  }
 },
 "nbformat": 4,
 "nbformat_minor": 5
}
