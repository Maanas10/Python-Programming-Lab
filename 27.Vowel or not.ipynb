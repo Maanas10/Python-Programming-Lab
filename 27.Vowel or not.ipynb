{
 "cells": [
  {
   "cell_type": "code",
   "execution_count": 29,
   "metadata": {},
   "outputs": [
    {
     "name": "stdout",
     "output_type": "stream",
     "text": [
      "enter the Letter:A\n",
      "it is not vowel\n"
     ]
    }
   ],
   "source": [
    "a=input(\"enter the Letter:\")\n",
    "b=\"a,e,i,o,u,A,E,I,O,U\"\n",
    "c=b.split(\",\")\n",
    "i=0\n",
    "if(a==c[i]):\n",
    "    i=i+1\n",
    "    print(\"it is vowel\")\n",
    "else:\n",
    "    print(\"it is not vowel\")"
   ]
  },
  {
   "cell_type": "code",
   "execution_count": null,
   "metadata": {
    "collapsed": true
   },
   "outputs": [],
   "source": []
  },
  {
   "cell_type": "code",
   "execution_count": null,
   "metadata": {
    "collapsed": true
   },
   "outputs": [],
   "source": []
  }
 ],
 "metadata": {
  "kernelspec": {
   "display_name": "Python 3",
   "language": "python",
   "name": "python3"
  },
  "language_info": {
   "codemirror_mode": {
    "name": "ipython",
    "version": 3
   },
   "file_extension": ".py",
   "mimetype": "text/x-python",
   "name": "python",
   "nbconvert_exporter": "python",
   "pygments_lexer": "ipython3",
   "version": "3.6.3"
  }
 },
 "nbformat": 4,
 "nbformat_minor": 2
}
